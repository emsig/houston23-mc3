{
 "cells": [
  {
   "cell_type": "markdown",
   "metadata": {},
   "source": [
    "# Simple Simulation with emg3d\n",
    "\n",
    "(Taken from the Gallery.)\n",
    "\n",
    "The easiest way to model CSEM data for a survey is to make use of the Survey\n",
    "and Simulation classes, `emg3d.surveys.Survey` and\n",
    "`emg3d.simulations.Simulation`, respectively, together with the\n",
    "automatic gridding functionality.\n",
    "\n",
    "For this example we use the resistivity model created in the example\n",
    "https://emsig.xyz/emg3d-gallery/gallery/models/GemPy-II.html ."
   ]
  },
  {
   "cell_type": "code",
   "execution_count": null,
   "metadata": {},
   "outputs": [],
   "source": [
    "# Uncomment on Google Colab\n",
    "# %pip install emg3d pooch matplotlib xarray h5py discretize tqdm scooby"
   ]
  },
  {
   "cell_type": "code",
   "execution_count": null,
   "metadata": {
    "collapsed": false,
    "jupyter": {
     "outputs_hidden": false
    },
    "tags": []
   },
   "outputs": [],
   "source": [
    "import os\n",
    "import pooch\n",
    "import emg3d\n",
    "import numpy as np\n",
    "import matplotlib.pyplot as plt\n",
    "from matplotlib.colors import LogNorm\n",
    "from scipy.interpolate import RectBivariateSpline\n",
    "plt.style.use('bmh')\n",
    "\n",
    "# Adjust this path to a folder of your choice.\n",
    "data_path = os.path.join('.', 'download', '')"
   ]
  },
  {
   "cell_type": "code",
   "execution_count": null,
   "metadata": {
    "collapsed": false,
    "jupyter": {
     "outputs_hidden": false
    },
    "tags": []
   },
   "outputs": [],
   "source": [
    "# Comment this out on Google Colab\n",
    "%matplotlib widget"
   ]
  },
  {
   "cell_type": "markdown",
   "metadata": {},
   "source": [
    "## Fetch the model\n",
    "\n",
    "Retrieve and load the pre-computed resistivity model.\n",
    "\n"
   ]
  },
  {
   "cell_type": "code",
   "execution_count": null,
   "metadata": {
    "collapsed": false,
    "jupyter": {
     "outputs_hidden": false
    },
    "tags": []
   },
   "outputs": [],
   "source": [
    "fname = \"GemPy-II.h5\"\n",
    "pooch.retrieve(\n",
    "    'https://raw.github.com/emsig/data/2021-05-21/emg3d/models/'+fname,\n",
    "    'ea8c23be80522d3ca8f36742c93758370df89188816f50cb4e1b2a6a3012d659',\n",
    "    fname=fname,\n",
    "    path=data_path,\n",
    ")\n",
    "model = emg3d.load(data_path + fname)['model']"
   ]
  },
  {
   "cell_type": "markdown",
   "metadata": {},
   "source": [
    "Let's check the model\n",
    "\n"
   ]
  },
  {
   "cell_type": "code",
   "execution_count": null,
   "metadata": {
    "collapsed": false,
    "jupyter": {
     "outputs_hidden": false
    },
    "tags": []
   },
   "outputs": [],
   "source": [
    "model"
   ]
  },
  {
   "cell_type": "markdown",
   "metadata": {},
   "source": [
    "So it is an isotropic model defined in terms of resistivities. Let's check\n",
    "the grid\n",
    "\n"
   ]
  },
  {
   "cell_type": "code",
   "execution_count": null,
   "metadata": {
    "collapsed": false,
    "jupyter": {
     "outputs_hidden": false
    },
    "tags": []
   },
   "outputs": [],
   "source": [
    "grid = model.grid\n",
    "grid"
   ]
  },
  {
   "cell_type": "markdown",
   "metadata": {},
   "source": [
    "## Define the survey\n",
    "\n",
    "If you have actual field data then this info would normally come from a data\n",
    "file or similar. Here we create our own dummy survey, and later will create\n",
    "synthetic data for it.\n",
    "\n",
    "A **Survey** instance contains all survey-related information, hence source\n",
    "and receiver positions and measured data. See the relevant documentation for\n",
    "more details: :class:`emg3d.surveys.Survey`.\n",
    "\n",
    "\n",
    "### Extract seafloor to simulate source and receiver depths\n",
    "\n",
    "To create a realistic survey we create a small routine that finds the\n",
    "seafloor, so we can place receivers on the seafloor and sources 50 m above\n",
    "it. We use the fact that the seawater has resistivity of 0.3 Ohm.m in the\n",
    "model, and is the lowest value.\n",
    "\n"
   ]
  },
  {
   "cell_type": "code",
   "execution_count": null,
   "metadata": {
    "collapsed": false,
    "jupyter": {
     "outputs_hidden": false
    },
    "tags": []
   },
   "outputs": [],
   "source": [
    "seafloor = np.ones((grid.shape_cells[0], grid.shape_cells[1]))\n",
    "for i in range(grid.shape_cells[0]):\n",
    "    for ii in range(grid.shape_cells[1]):\n",
    "        # We take the seafloor to be the first cell which resistivity\n",
    "        # is below 0.33\n",
    "        seafloor[i, ii] = grid.nodes_z[:-1][\n",
    "                model.property_x[i, ii, :] < 0.33][0]\n",
    "\n",
    "# Create a 2D interpolation function from it\n",
    "bathymetry = RectBivariateSpline(\n",
    "        grid.cell_centers_x, grid.cell_centers_y, seafloor)"
   ]
  },
  {
   "cell_type": "markdown",
   "metadata": {},
   "source": [
    "### Source and receiver positions\n",
    "\n",
    "Sources and receivers can be defined in a few different ways. One way is by\n",
    "providing coordinates, where two coordinate formats are accepted:\n",
    "\n",
    "- ``(x0, x1, y0, y1, z0, z1)``: finite length dipole,\n",
    "- ``(x, y, z, azimuth, elevation)``: point dipole,\n",
    "\n",
    "where the angles (azimuth and elevation) are in degrees. For the coordinate\n",
    "system see [coordinate_system](https://empymod.emsig.xyz/en/stable/examples/coordinate_system.html).\n",
    "\n",
    "A survey can contain electric and magnetic receivers, arbitrarily rotated.\n",
    "However, the ``Simulation`` is currently limited to electric receivers.\n",
    "\n",
    "Note that the survey just knows about the sources, receivers, frequencies,\n",
    "and observed data - it does not know anything of an underlying model.\n",
    "\n"
   ]
  },
  {
   "cell_type": "code",
   "execution_count": null,
   "metadata": {
    "collapsed": false,
    "jupyter": {
     "outputs_hidden": false
    },
    "tags": []
   },
   "outputs": [],
   "source": [
    "# Angles for horizontal, x-directed Ex point dipoles\n",
    "elevation = 0.0\n",
    "azimuth = 0.0\n",
    "\n",
    "# Acquisition source frequencies (Hz)\n",
    "frequencies = [0.5, 1.0]\n",
    "\n",
    "# Source coordinates\n",
    "src_x = np.arange(1, 4)*5000\n",
    "src_y = 7500\n",
    "# Source depths: 50 m above seafloor\n",
    "src_z = bathymetry(src_x, src_y).ravel()+50\n",
    "src = emg3d.surveys.txrx_coordinates_to_dict(\n",
    "        emg3d.TxElectricDipole,\n",
    "        (src_x, src_y, src_z, azimuth, elevation)\n",
    ")\n",
    "\n",
    "# Receiver positions\n",
    "rec_x = np.arange(3, 18)*1e3\n",
    "rec_y = np.arange(3)*1e3+6500\n",
    "RX, RY = np.meshgrid(rec_x, rec_y, indexing='ij')\n",
    "RZ = bathymetry(rec_x, rec_y)\n",
    "rec = emg3d.surveys.txrx_coordinates_to_dict(\n",
    "        emg3d.RxElectricPoint,\n",
    "        (RX.ravel(), RY.ravel(), RZ.ravel(), azimuth, elevation)\n",
    ")"
   ]
  },
  {
   "cell_type": "markdown",
   "metadata": {},
   "source": [
    "### Create Survey\n",
    "\n",
    "If you have observed data you can provide them, here we will create synthetic\n",
    "data later on. What you have to define is the expected noise floor and\n",
    "relative error, which is used to compute the misfit later on. Alternatively\n",
    "you can provide directly the standard deviation; see\n",
    ":class:`emg3d.surveys.Survey`.\n",
    "\n"
   ]
  },
  {
   "cell_type": "code",
   "execution_count": null,
   "metadata": {
    "collapsed": false,
    "jupyter": {
     "outputs_hidden": false
    },
    "tags": []
   },
   "outputs": [],
   "source": [
    "survey = emg3d.surveys.Survey(\n",
    "    name='GemPy-II Survey A',  # Name of the survey\n",
    "    sources=src,               # Source coordinates\n",
    "    receivers=rec,             # Receiver coordinates\n",
    "    frequencies=frequencies,   # Two frequencies\n",
    "    # data=data,               # If you have observed data\n",
    "    noise_floor=1e-15,\n",
    "    relative_error=0.05,\n",
    ")\n",
    "\n",
    "# Let's have a look at the survey:\n",
    "survey"
   ]
  },
  {
   "cell_type": "markdown",
   "metadata": {},
   "source": [
    "Our survey has our sources and receivers and initiated a variable\n",
    "``observed``, with NaN's. Each source and receiver got a name assigned. If\n",
    "you prefer other names you would have to define the sources and receivers\n",
    "through ``emg3d.surveys.Dipole``, and provide a list of dipoles to the survey\n",
    "instead of only a tuple of coordinates.\n",
    "\n",
    "We can also look at a particular source or receiver, e.g.,\n",
    "\n"
   ]
  },
  {
   "cell_type": "code",
   "execution_count": null,
   "metadata": {
    "collapsed": false,
    "jupyter": {
     "outputs_hidden": false
    },
    "tags": []
   },
   "outputs": [],
   "source": [
    "survey.sources['TxED-1']"
   ]
  },
  {
   "cell_type": "markdown",
   "metadata": {},
   "source": [
    "Which shows you all you need to know about a particular dipole: name, type\n",
    "(electric or magnetic), coordinates of its center, angles, and length.\n",
    "\n",
    "## QC model and survey\n",
    "\n"
   ]
  },
  {
   "cell_type": "code",
   "execution_count": null,
   "metadata": {
    "collapsed": false,
    "jupyter": {
     "outputs_hidden": false
    },
    "tags": []
   },
   "outputs": [],
   "source": [
    "grid.plot_3d_slicer(model.property_x, xslice=12000, yslice=7500,\n",
    "                    pcolor_opts={'norm': LogNorm(vmin=0.3, vmax=200)})\n",
    "\n",
    "# Plot survey in figure above\n",
    "fig = plt.gcf()\n",
    "fig.suptitle('Resistivity model (Ohm.m) and survey layout')\n",
    "axs = fig.get_children()\n",
    "rec_coords = survey.receiver_coordinates()\n",
    "src_coords = survey.source_coordinates()\n",
    "axs[1].plot(rec_coords[0], rec_coords[1], 'bv')\n",
    "axs[2].plot(rec_coords[0], rec_coords[2], 'bv')\n",
    "axs[3].plot(rec_coords[2], rec_coords[1], 'bv')\n",
    "axs[1].plot(src_coords[0], src_coords[1], 'r*')\n",
    "axs[2].plot(src_coords[0], src_coords[2], 'r*')\n",
    "axs[3].plot(src_coords[2], src_coords[1], 'r*')\n",
    "plt.show()"
   ]
  },
  {
   "cell_type": "markdown",
   "metadata": {},
   "source": [
    "## Create a Simulation (to compute 'observed' data)\n",
    "\n",
    "The simulation class combines a model with a survey, and can compute\n",
    "synthetic data for it.\n",
    "\n",
    "### Automatic gridding\n",
    "\n",
    "We use the automatic gridding feature implemented in the simulation class to\n",
    "use source- and frequency- dependent grids for the computation.\n",
    "Consult the following docs for more information:\n",
    "\n",
    "- `gridding_opts` in :class:`emg3d.simulations.Simulation`;\n",
    "- :func:`emg3d.meshes.estimate_gridding_opts`; and\n",
    "- :func:`emg3d.meshes.construct_mesh`.\n",
    "\n"
   ]
  },
  {
   "cell_type": "code",
   "execution_count": null,
   "metadata": {
    "collapsed": false,
    "jupyter": {
     "outputs_hidden": false
    },
    "tags": []
   },
   "outputs": [],
   "source": [
    "gopts = {\n",
    "    'properties': [0.3, 10, 1., 0.3],\n",
    "    'min_width_limits': (100, 100, 50),\n",
    "    'stretching': (None, None, [1.05, 1.5]),\n",
    "    'domain': (\n",
    "        [rec_coords[0].min()-100, rec_coords[0].max()+100],\n",
    "        [rec_coords[1].min()-100, rec_coords[1].max()+100],\n",
    "        [-5500, -2000]\n",
    "    ),\n",
    "    'center_on_edge': False,\n",
    "}"
   ]
  },
  {
   "cell_type": "markdown",
   "metadata": {},
   "source": [
    "Now we can initiate the simulation class and QC it:\n",
    "\n"
   ]
  },
  {
   "cell_type": "code",
   "execution_count": null,
   "metadata": {
    "collapsed": false,
    "jupyter": {
     "outputs_hidden": false
    },
    "tags": []
   },
   "outputs": [],
   "source": [
    "simulation = emg3d.simulations.Simulation(\n",
    "    name=\"True Model\",    # A name for this simulation\n",
    "    survey=survey,        # Our survey instance\n",
    "    model=model,          # The model\n",
    "    gridding='both',      # Frequency- and source-dependent meshes\n",
    "    max_workers=4,        # How many parallel jobs\n",
    "    # solver_opts,        # Any parameter to pass to emg3d.solve\n",
    "    gridding_opts=gopts,  # Gridding options\n",
    ")\n",
    "\n",
    "# Let's QC our Simulation instance\n",
    "simulation"
   ]
  },
  {
   "cell_type": "markdown",
   "metadata": {},
   "source": [
    "### Compute the data\n",
    "\n",
    "We pass here the argument ``observed=True``; this way, the synthetic data is\n",
    "stored in our Survey as ``observed`` data, otherwise it would be stored as\n",
    "``synthetic``. This is important later for optimization. It also adds\n",
    "Gaussian noise according to the noise floor and relative error we defined in\n",
    "the survey. By setting a minimum offset the receivers close to the source are\n",
    "switched off.\n",
    "\n",
    "This computes all results in parallel; in this case six models, three sources\n",
    "times two frequencies. You can change the number of workers at any time by\n",
    "setting ``simulation.max_workers``.\n",
    "\n"
   ]
  },
  {
   "cell_type": "code",
   "execution_count": null,
   "metadata": {
    "collapsed": false,
    "jupyter": {
     "outputs_hidden": false
    },
    "tags": []
   },
   "outputs": [],
   "source": [
    "simulation.compute(observed=True, min_offset=500)"
   ]
  },
  {
   "cell_type": "markdown",
   "metadata": {},
   "source": [
    "A ``Simulation`` has a few convenience functions, e.g.:\n",
    "\n",
    "- ``simulation.get_efield('TxED-1', 0.5)``: Returns the electric field of the\n",
    "  entire domain for source ``'TxED-1'`` and frequency 0.5 Hz.\n",
    "- ``simulation.get_hfield``; ``simulation.get_sfield``: Similar functions to\n",
    "  retrieve the magnetic fields and the source fields.\n",
    "- ``simulation.get_model``; ``simulation.get_grid``: Similar functions to\n",
    "  retrieve the computational grid and the model for a given source and\n",
    "  frequency.\n",
    "\n",
    "When we now look at our survey we see that the observed data variable is\n",
    "filled with the responses at the receiver locations. Note that the\n",
    "``synthetic`` data is the actual computed data, the ``observed`` data, on the\n",
    "other hand, has Gaussian noise added and is set to NaN's for positions too\n",
    "close to the source.\n",
    "\n"
   ]
  },
  {
   "cell_type": "code",
   "execution_count": null,
   "metadata": {
    "collapsed": false,
    "jupyter": {
     "outputs_hidden": false
    },
    "tags": []
   },
   "outputs": [],
   "source": [
    "survey"
   ]
  },
  {
   "cell_type": "markdown",
   "metadata": {},
   "source": [
    "## QC Data\n",
    "\n"
   ]
  },
  {
   "cell_type": "code",
   "execution_count": null,
   "metadata": {
    "collapsed": false,
    "jupyter": {
     "outputs_hidden": false
    },
    "tags": []
   },
   "outputs": [],
   "source": [
    "plt.figure()\n",
    "plt.title(\"Inline receivers for all sources\")\n",
    "obs = simulation.data.observed[:, 1::3, :]\n",
    "syn = simulation.data.synthetic[:, 1::3, :]\n",
    "for i, src in enumerate(survey.sources.keys()):\n",
    "    for ii, freq in enumerate(survey.frequencies):\n",
    "        plt.plot(rec_coords[0][1::3],\n",
    "                 abs(syn.loc[src, :, freq].data.real),\n",
    "                 \"k-\", lw=0.5)\n",
    "        plt.plot(rec_coords[0][1::3],\n",
    "                 abs(syn.loc[src, :, freq].data.imag),\n",
    "                 \"k-\", lw=0.5)\n",
    "        plt.plot(rec_coords[0][1::3],\n",
    "                 abs(obs.loc[src, :, freq].data.real),\n",
    "                 f\"C{ii}.-\",\n",
    "                 label=f\"|Real|; freq={freq} Hz\" if i == 0 else None\n",
    "                 )\n",
    "        plt.plot(rec_coords[0][1::3],\n",
    "                 abs(obs.loc[src, :, freq].data.imag),\n",
    "                 f\"C{ii}.--\",\n",
    "                 label=f\"|Imag|; freq={freq} Hz\" if i == 0 else None\n",
    "                 )\n",
    "\n",
    "plt.yscale('log')\n",
    "plt.legend(ncol=2, framealpha=1)\n",
    "plt.xlabel('x-coordinate (m)')\n",
    "plt.ylabel('$|E_x|$ (V/m)')\n",
    "plt.show()"
   ]
  },
  {
   "cell_type": "markdown",
   "metadata": {},
   "source": [
    "## How to store surveys and simulations to disk\n",
    "\n",
    "Survey and Simulations can store (and load) themselves to (from) disk.\n",
    "\n",
    "- A survey stores all sources, receivers, frequencies, and the observed data.\n",
    "- A simulation stores the survey, the model, the synthetic data. (It can also\n",
    "  store much more, such as all electric fields, source and frequency\n",
    "  dependent meshes and models, etc. What it actually stores is defined by the\n",
    "  parameter ``what``).\n",
    "\n"
   ]
  },
  {
   "cell_type": "code",
   "execution_count": null,
   "metadata": {
    "collapsed": false,
    "jupyter": {
     "outputs_hidden": false
    },
    "tags": []
   },
   "outputs": [],
   "source": [
    "# Survey file name\n",
    "# survey_fname = 'GemPy-II-survey-A.h5'\n",
    "\n",
    "# To store, run\n",
    "# survey.to_file(survey_fname)  # .h5, .json, or .npz\n",
    "\n",
    "# To load, run\n",
    "# survey = emg3d.surveys.Survey.from_file(survey_fname)\n",
    "\n",
    "# In the same manner you could store and load the entire simulation:\n",
    "\n",
    "# Simulation file name\n",
    "# simulation_fname = file-name.ending  # for ending in [h5, json, npz]\n",
    "\n",
    "# To store, run\n",
    "# simulation.to_file(simulation_fname, what='results')\n",
    "\n",
    "# To load, run\n",
    "# simulation = emg3d.simulations.Simulation.from_file(simulation_fname)"
   ]
  },
  {
   "cell_type": "code",
   "execution_count": null,
   "metadata": {
    "collapsed": false,
    "jupyter": {
     "outputs_hidden": false
    },
    "tags": []
   },
   "outputs": [],
   "source": [
    "emg3d.Report()"
   ]
  }
 ],
 "metadata": {
  "kernelspec": {
   "display_name": "Python 3 (ipykernel)",
   "language": "python",
   "name": "python3"
  },
  "language_info": {
   "codemirror_mode": {
    "name": "ipython",
    "version": 3
   },
   "file_extension": ".py",
   "mimetype": "text/x-python",
   "name": "python",
   "nbconvert_exporter": "python",
   "pygments_lexer": "ipython3",
   "version": "3.10.9"
  }
 },
 "nbformat": 4,
 "nbformat_minor": 4
}
