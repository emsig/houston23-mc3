{
 "cells": [
  {
   "cell_type": "markdown",
   "id": "3ba0ba0d",
   "metadata": {
    "slideshow": {
     "slide_type": "slide"
    },
    "tags": []
   },
   "source": [
    "<img src=\"https://raw.github.com/emsig/logos/main/empymod/empymod-logo.png\" width=\"400\" alt=\"Logo empymod\" title=\"Logo empymod\">\n",
    "    \n",
    "\n",
    "### 3D EM modeller for 1D VTI media\n",
    "\n",
    "The modeller **empymod** can compute electric or magnetic responses due to a 3D\n",
    "electric or magnetic source in a layered-earth model with vertical transverse\n",
    "isotropic (VTI) resistivity, VTI electric permittivity, and VTI magnetic\n",
    "permeability, from very low frequencies (DC) to very high frequencies (GPR).\n",
    "The computation is carried out in the wavenumber-frequency domain, and various\n",
    "Hankel- and Fourier-transform methods are included to transform the responses\n",
    "into the space-frequency and space-time domains.\n",
    "\n",
    "\n",
    "- Manual: https://empymod.emsig.xyz\n",
    "- Gallery: https://empymod.emsig.xyz/en/stable/gallery\n",
    "- Code: https://github.com/emsig/empymod\n",
    "- Installation: https://empymod.emsig.xyz/en/stable/manual/installation.html"
   ]
  },
  {
   "cell_type": "code",
   "execution_count": null,
   "id": "0819c84f-36f8-4637-8700-8a65dd80f739",
   "metadata": {},
   "outputs": [],
   "source": [
    "# Uncomment on Google Colab\n",
    "# %pip install empymod matplotlib ipympl ipywidgets scooby"
   ]
  },
  {
   "cell_type": "code",
   "execution_count": null,
   "id": "e361e20e-96fa-496b-992b-7b103dc2e577",
   "metadata": {
    "tags": []
   },
   "outputs": [],
   "source": [
    "import empymod\n",
    "\n",
    "import numpy as np\n",
    "import matplotlib.pyplot as plt\n",
    "\n",
    "import ipywidgets as widgets\n",
    "from ipywidgets import interact\n",
    "\n",
    "plt.style.use('ggplot')\n",
    "\n",
    "# Comment this out on Google Colab\n",
    "%matplotlib widget"
   ]
  },
  {
   "cell_type": "markdown",
   "id": "dbdad1fe-2d1a-4a90-9b86-870457826aec",
   "metadata": {},
   "source": [
    "## Routines\n",
    "\n",
    "At its heart, empymod has the Green's functions for x-, y-, and z-directed infinitesimal small electric and magnetic dipole sources and receivers (36 combinations), using recursively local and global reflection coefficients. It is based on [Hunziker et al., 2015, Geophysics](https://doi.org/10.1190/geo2013-0411.1).\n",
    "- It is analytical in the wavenumber-frequency domain.\n",
    "- For the wavenumber-to-space and frequency-to-time transformations there are various transformation methods, where the digital linear filter (DLF) is the default approach.\n",
    "- Analytical full- and half-space solution in the frequency- and time-domain.\n",
    "\n",
    "### Primary routines in empymod:\n",
    "\n",
    "- `bipole`\n",
    "- `dipole`\n",
    "- `loop`\n",
    "- `analytical`\n",
    "- `dipole_k`"
   ]
  },
  {
   "cell_type": "code",
   "execution_count": null,
   "id": "d1fd2012-7028-4915-b625-82cec007ceb4",
   "metadata": {
    "tags": []
   },
   "outputs": [],
   "source": [
    "# Look at docs\n",
    "empymod.bipole?"
   ]
  },
  {
   "cell_type": "code",
   "execution_count": null,
   "id": "336839d3-7e6a-4830-8ce9-3fa7e7d9184d",
   "metadata": {
    "tags": []
   },
   "outputs": [],
   "source": [
    "empymod.bipole(\n",
    "    src=(0, 0, -250, 0, 0),\n",
    "    rec=(1000, 0, -300, 0, 0),\n",
    "    depth=[0, -300, -1000, -1100],\n",
    "    res=[2e14, 0.3, 1, 100, 1],\n",
    "    freqtime=1,\n",
    "    verb=3,\n",
    ")"
   ]
  },
  {
   "cell_type": "markdown",
   "id": "e1fc6e96-cc4c-460f-a705-40a9119acbb1",
   "metadata": {},
   "source": [
    "## Basic example with numpy and matplotlib\n",
    "A simple frequency-domain example, where we keep most of the parameters left at the default value:\n",
    "\n",
    "First we define the survey parameters: source and receiver locations, and source frequencies."
   ]
  },
  {
   "cell_type": "code",
   "execution_count": null,
   "id": "4fb72a2a-48d3-43fa-bf14-26d16a06860d",
   "metadata": {
    "tags": []
   },
   "outputs": [],
   "source": [
    "# x-directed bipole source: x0, x1, y0, y1, z0, z1\n",
    "source = [-50, 50, 0, 0, -250, -250]\n",
    "\n",
    "# Source frequency\n",
    "frequency_1 = 1\n",
    "\n",
    "# Receiver offsets\n",
    "offsets_1 = np.linspace(500, 10000, 301)\n",
    "\n",
    "# x-directed dipole receiver-array: x, y, z, azimuth, dip\n",
    "receivers_1 = [offsets_1, offsets_1*0, -300, 0, 0]"
   ]
  },
  {
   "cell_type": "markdown",
   "id": "9b5fac4a-d699-46c7-93b8-65922c3ef9d5",
   "metadata": {},
   "source": [
    "Next, we define the resistivity model:"
   ]
  },
  {
   "cell_type": "code",
   "execution_count": null,
   "id": "00a0ed80-e938-4c9e-968f-c1f9ba37ebd1",
   "metadata": {
    "tags": []
   },
   "outputs": [],
   "source": [
    "# Layer boundaries\n",
    "depth = [0, -300, -1000, -1050]\n",
    "\n",
    "# Layer resistivities\n",
    "resistivities = [2e14, 0.3, 1, 50, 1]"
   ]
  },
  {
   "cell_type": "markdown",
   "id": "f947ba6d-a468-4bc0-ada4-ac3e01eb4dda",
   "metadata": {},
   "source": [
    "And finally we compute the electromagnetic response at receiver locations:"
   ]
  },
  {
   "cell_type": "code",
   "execution_count": null,
   "id": "65dec034-f6df-453b-870a-0af24a73d5a0",
   "metadata": {
    "tags": []
   },
   "outputs": [],
   "source": [
    "resp_1 = empymod.bipole(\n",
    "    src=source,\n",
    "    rec=receivers_1,\n",
    "    depth=depth,\n",
    "    res=resistivities,\n",
    "    freqtime=frequency_1,\n",
    "    htarg={'pts_per_dec': -1},\n",
    "    verb=2,\n",
    ")"
   ]
  },
  {
   "cell_type": "markdown",
   "id": "7e0da4fd-1a09-4948-aaff-4438b87495ca",
   "metadata": {},
   "source": [
    "Let’s plot the resulting responses:"
   ]
  },
  {
   "cell_type": "code",
   "execution_count": null,
   "id": "579857e0-97c1-49c2-8b3a-0c5bbde9d96e",
   "metadata": {
    "tags": []
   },
   "outputs": [],
   "source": [
    "fig1, ((ax11, ax12), (ax13, ax14)) = plt.subplots(2, 2, sharex=True, constrained_layout=True)\n",
    "\n",
    "fig1.suptitle(f'Electric response; freq={frequency_1} Hz')\n",
    "\n",
    "ax11.set_title('|Re(E)| (V/m)')\n",
    "ax11.semilogy(offsets_1/1e3, abs(resp_1.real))\n",
    "\n",
    "ax12.set_title('|E| (V/m)')\n",
    "ax12.semilogy(offsets_1/1e3, resp_1.amp())\n",
    "\n",
    "ax13.set_title('|Im(E)| (V/m)')\n",
    "ax13.semilogy(offsets_1/1e3, abs(resp_1.imag))\n",
    "\n",
    "ax14.set_title('Pha(E) (°)')\n",
    "ax14.plot(offsets_1/1e3, resp_1.pha(deg=True))\n",
    "\n",
    "for ax in [ax13, ax14]:\n",
    "    ax.set_xlabel('Offset (km)')"
   ]
  },
  {
   "cell_type": "markdown",
   "id": "b08f4ab8-21b2-4203-9ae9-bffb083e65e7",
   "metadata": {},
   "source": [
    "## As a function of frequency instead of offset"
   ]
  },
  {
   "cell_type": "code",
   "execution_count": null,
   "id": "c83e87a2-d29a-499e-90c2-73b302c061f2",
   "metadata": {
    "tags": []
   },
   "outputs": [],
   "source": [
    "frequency_2 = np.logspace(-2, 2, 200)\n",
    "offsets_2 = 3000.0\n",
    "receivers_2 = [offsets_2, offsets_2*0, -200, 0, 0]\n",
    "\n",
    "resp_2 = empymod.bipole(\n",
    "    src=source,\n",
    "    rec=receivers_2,\n",
    "    depth=depth,\n",
    "    res=resistivities,\n",
    "    freqtime=frequency_2,\n",
    "    htarg={'pts_per_dec': -1},\n",
    "    verb=2,\n",
    ")"
   ]
  },
  {
   "cell_type": "code",
   "execution_count": null,
   "id": "369f61c0-7393-4909-a4a1-f157aca9d990",
   "metadata": {
    "tags": []
   },
   "outputs": [],
   "source": [
    "fig2, ((ax21, ax22), (ax23, ax24)) = plt.subplots(2, 2, sharex=True, constrained_layout=True)\n",
    "\n",
    "fig2.suptitle(f'Electric response; off={offsets_2/1e3} km')\n",
    "\n",
    "ax21.set_title('|Re(E)| (V/m)')\n",
    "ax21.loglog(frequency_2, abs(resp_2.real))\n",
    "\n",
    "ax22.set_title('|E| (V/m)')\n",
    "ax22.loglog(frequency_2, resp_2.amp())\n",
    "\n",
    "ax23.set_title('|Im(E)| (V/m)')\n",
    "ax23.loglog(frequency_2, abs(resp_2.imag))\n",
    "\n",
    "ax24.set_title('Pha(E) (°)')\n",
    "ax24.semilogx(frequency_2, resp_2.pha(deg=True))\n",
    "\n",
    "for ax in [ax23, ax24]:\n",
    "    ax.set_xlabel('Frequency (Hz)')"
   ]
  },
  {
   "cell_type": "markdown",
   "id": "dcad3eee-f715-4527-9a1b-eb8aecb70ac7",
   "metadata": {},
   "source": [
    "## Using input dictionaries\n",
    "\n",
    "=> Makes it easy to compare different models keeping most parameters constant\n",
    "\n",
    "We use this simple example also to play around with, e.g.:\n",
    "\n",
    "- `signal`\n",
    "- `msrc`, `mrec`\n",
    "- `aniso`\n",
    "- `eperm{H;V}`\n",
    "- `mperm{H;V}`"
   ]
  },
  {
   "cell_type": "code",
   "execution_count": null,
   "id": "1f3696c9-f40b-4930-812b-d3371506316a",
   "metadata": {
    "tags": []
   },
   "outputs": [],
   "source": [
    "inp = {\n",
    "    'src': source,\n",
    "    #'src': (*source[:3], 90, 0),\n",
    "    'rec': receivers_1,\n",
    "    #'rec': (*receivers_1[:3], 90, 0),\n",
    "    #'aniso': [1, 1, 2, 2, 2],\n",
    "    'depth': depth,\n",
    "    'freqtime': frequency_1,\n",
    "    #'signal': 0,\n",
    "    #'msrc': True,\n",
    "    #'mrec': True,\n",
    "    'htarg': {'pts_per_dec': -1},\n",
    "    'verb': 1,\n",
    "}\n",
    "\n",
    "resp_1_tg = empymod.bipole(res=resistivities, **inp)\n",
    "resp_1_bg = empymod.bipole(res=[2e14, 0.3, 1, 1, 1], **inp)\n",
    "#resp_1_bg = empymod.bipole(res=resistivities, epermH=[1, 1, 80, 80, 80], **inp)"
   ]
  },
  {
   "cell_type": "code",
   "execution_count": null,
   "id": "10f36ab0-ccca-4bad-beaa-09d5aebb717c",
   "metadata": {
    "tags": []
   },
   "outputs": [],
   "source": [
    "fig3, ((ax31, ax32), (ax33, ax34)) = plt.subplots(2, 2, sharex=True, constrained_layout=True)\n",
    "\n",
    "fig3.suptitle(f'Electric response; freq={frequency_1} Hz')\n",
    "\n",
    "ax31.set_title('|Re(E)| (V/m)')\n",
    "ax31.semilogy(offsets_1/1e3, abs(resp_1_tg.real), label='target')\n",
    "ax31.semilogy(offsets_1/1e3, abs(resp_1_bg.real), label='background')\n",
    "ax31.legend()\n",
    "\n",
    "ax32.set_title('|E| (V/m)')\n",
    "ax32.semilogy(offsets_1/1e3, resp_1_tg.amp())\n",
    "ax32.semilogy(offsets_1/1e3, resp_1_bg.amp())\n",
    "\n",
    "ax33.set_title('|Im(E)| (V/m)')\n",
    "ax33.semilogy(offsets_1/1e3, abs(resp_1_tg.imag))\n",
    "ax33.semilogy(offsets_1/1e3, abs(resp_1_bg.imag))\n",
    "\n",
    "ax34.set_title('Pha(E) (°)')\n",
    "ax34.plot(offsets_1/1e3, resp_1_tg.pha(deg=True))\n",
    "ax34.plot(offsets_1/1e3, resp_1_bg.pha(deg=True))\n",
    "\n",
    "for ax in [ax33, ax34]:\n",
    "    ax.set_xlabel('Offset (km)')"
   ]
  },
  {
   "cell_type": "markdown",
   "id": "1e82d2ea-ae28-4cad-9124-db7dd5726d03",
   "metadata": {
    "tags": []
   },
   "source": [
    "### Save/load input & CLI\n",
    "\n",
    "See https://empymod.emsig.xyz/en/stable/manual/iocli.html"
   ]
  },
  {
   "cell_type": "code",
   "execution_count": null,
   "id": "533f3bce-841b-4fea-97a0-18b87ee09bdd",
   "metadata": {
    "tags": []
   },
   "outputs": [],
   "source": [
    "empymod.io.save_input('myrun.json', {'res': resistivities, **inp})"
   ]
  },
  {
   "cell_type": "code",
   "execution_count": null,
   "id": "333be98c-50f0-4f67-b967-c19c322e9a8e",
   "metadata": {
    "tags": []
   },
   "outputs": [],
   "source": [
    "inp_loaded = empymod.io.load_input('myrun.json')"
   ]
  },
  {
   "cell_type": "code",
   "execution_count": null,
   "id": "9596851a-c31b-4cbc-a429-fff6c7afe94c",
   "metadata": {
    "tags": []
   },
   "outputs": [],
   "source": [
    "%%bash\n",
    "\n",
    "empymod --help"
   ]
  },
  {
   "cell_type": "code",
   "execution_count": null,
   "id": "9daff2ef-3dd3-4b1b-bd57-e738bf536f07",
   "metadata": {
    "tags": []
   },
   "outputs": [],
   "source": [
    "!cat myrun.json"
   ]
  },
  {
   "cell_type": "code",
   "execution_count": null,
   "id": "d0534d61-cd37-4d71-b981-9d06d2155ffa",
   "metadata": {
    "tags": []
   },
   "outputs": [],
   "source": [
    "%%bash\n",
    "\n",
    "empymod bipole myrun.json output.json"
   ]
  },
  {
   "cell_type": "code",
   "execution_count": null,
   "id": "9f001383-df37-4b3f-bc08-e2c9a674d4fd",
   "metadata": {
    "tags": []
   },
   "outputs": [],
   "source": [
    "empymod.io.load_data('output.json')"
   ]
  },
  {
   "cell_type": "markdown",
   "id": "8b590648-5f4d-455c-8226-b26b2e6885a5",
   "metadata": {
    "tags": []
   },
   "source": [
    "## Interactive\n",
    "\n",
    "Small example how to create a simple interactive example."
   ]
  },
  {
   "cell_type": "code",
   "execution_count": null,
   "id": "957681b7-9dbe-4893-9121-c1be7d98fd70",
   "metadata": {
    "tags": []
   },
   "outputs": [],
   "source": [
    "fig4, ax41 = plt.subplots()\n",
    "ax41.set_ylabel('Amplitude (V/m)')\n",
    "ax41.set_xlabel('Offset (m)')\n",
    "ax41.set_yscale('log')\n",
    "    \n",
    "ax41.plot(offsets_1, resp_1_bg.amp(), label='Target')\n",
    "ax41.plot(offsets_1, resp_1_bg.amp(), label='Background')\n",
    "ax41.legend()\n",
    "    \n",
    "def f(res):\n",
    "    update_resp = empymod.bipole(res=[2e14, 0.3, 1, 10**res, 1], **inp)\n",
    "    ax41.set_title(f\"Resistivity: {10**res: 6.2f} Ω m\")\n",
    "    ax41.lines[0].set_ydata(update_resp.amp())\n",
    "    \n",
    "interact(f, res=widgets.FloatSlider(min=-2, max=2, step=0.1, value=0));"
   ]
  },
  {
   "cell_type": "markdown",
   "id": "0aef0d80-b95d-4572-85ac-62595651b8ce",
   "metadata": {},
   "source": [
    "## Other topics:\n",
    "\n",
    "- TLE notebook (if time, run it!)\n",
    "- WalkTEM & [Gallery](https://empymod.emsig.xyz/en/stable/gallery) in general\n",
    "- Induced Polarization\n",
    "- Loops\n",
    "- Ziolkowski and Slob\n",
    "\n",
    "## Keep in mind\n",
    "\n",
    "empymod is very useful to quickly check ideas, concepts, and learn about the field.\n",
    "\n",
    "However, keep in mind that it is only for layered models: You will almost always get an exagerated response in comparison with reality!"
   ]
  },
  {
   "cell_type": "code",
   "execution_count": null,
   "id": "baef0da1-adf7-4b1d-9ed1-05c317a884ea",
   "metadata": {
    "tags": []
   },
   "outputs": [],
   "source": [
    "# Check the report - can be useful\n",
    "empymod.Report()"
   ]
  }
 ],
 "metadata": {
  "celltoolbar": "Geen",
  "kernelspec": {
   "display_name": "houston23-mc3",
   "language": "python",
   "name": "houston23-mc3"
  },
  "language_info": {
   "codemirror_mode": {
    "name": "ipython",
    "version": 3
   },
   "file_extension": ".py",
   "mimetype": "text/x-python",
   "name": "python",
   "nbconvert_exporter": "python",
   "pygments_lexer": "ipython3",
   "version": "3.10.9"
  }
 },
 "nbformat": 4,
 "nbformat_minor": 5
}
