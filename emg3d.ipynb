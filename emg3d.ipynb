{
 "cells": [
  {
   "cell_type": "markdown",
   "id": "3ba0ba0d",
   "metadata": {
    "jp-MarkdownHeadingCollapsed": true,
    "slideshow": {
     "slide_type": "slide"
    },
    "tags": []
   },
   "source": [
    "<img src=\"https://raw.github.com/emsig/logos/main/emg3d/emg3d-logo.png\" width=\"400\" alt=\"Logo emg3d\" title=\"Logo emg3d\">\n",
    "    \n",
    "### Multigrid solver for 3D EM diffusion\n",
    "\n",
    "The modeller **emg3d** is a multigrid solver for 3D EM diffusion with tri-axial\n",
    "electrical anisotropy. The matrix-free solver can be used as main solver or as\n",
    "preconditioner for Krylov subspace methods, and the governing equations are\n",
    "discretized on a staggered Yee grid.\n",
    "\n",
    "- Manual: https://emg3d.emsig.xyz\n",
    "- Gallery: https://emsig.xyz/emg3d-gallery/gallery/\n",
    "- Code: https://github.com/emsig/emg3d\n",
    "- Installation: https://emg3d.emsig.xyz/en/stable/manual/installation.html"
   ]
  },
  {
   "cell_type": "markdown",
   "id": "54af9103-d65e-4812-8f32-7bafa54ad594",
   "metadata": {},
   "source": [
    "# Simple example, comparing to empymod\n",
    "\n",
    "## Topics\n",
    "\n",
    "- Direct solvers versus iterative solvers\n",
    "- NO MODEL BUILDER => look at, e.g., GemPy, RRM\n",
    "- Computational domain is crucial\n",
    "- FIT -> for complex model look at FE codes such as custEM, PETGEM"
   ]
  },
  {
   "cell_type": "code",
   "execution_count": null,
   "id": "6c8c9cec-8d87-433f-9116-1f8d3148b14f",
   "metadata": {},
   "outputs": [],
   "source": [
    "# Uncomment on Google Colab\n",
    "# %pip install emg3d pooch matplotlib xarray h5py discretize tqdm scooby"
   ]
  },
  {
   "cell_type": "code",
   "execution_count": null,
   "id": "9035ff33-2671-4567-8130-78fbe790b342",
   "metadata": {
    "tags": []
   },
   "outputs": [],
   "source": [
    "import emg3d\n",
    "import empymod\n",
    "import numpy as np\n",
    "import matplotlib.pyplot as plt\n",
    "from matplotlib.colors import LogNorm\n",
    "\n",
    "plt.style.use('bmh')\n",
    "\n",
    "%matplotlib widget"
   ]
  },
  {
   "cell_type": "markdown",
   "id": "c535feaf-7928-4e3c-b9c2-34887d8fe1eb",
   "metadata": {},
   "source": [
    "## 1D Model, compute with empymod"
   ]
  },
  {
   "cell_type": "code",
   "execution_count": null,
   "id": "f311010c-6507-4e2e-997a-19ff3110131d",
   "metadata": {
    "tags": []
   },
   "outputs": [],
   "source": [
    "# Survey parameters\n",
    "src = (-100, 100, 0, 0, -2950, -2950)\n",
    "off = np.linspace(500, 6000, 101)\n",
    "rec = (off, off*0, -3000, 0, 0)\n",
    "frequency = 0.5\n",
    "\n",
    "# Model parameters\n",
    "depth = [0, -3000, -4000, -4200]\n",
    "\n",
    "# Collect\n",
    "inp = {\n",
    "    'src': src,\n",
    "    'rec': rec,\n",
    "    'depth': depth,\n",
    "    'freqtime': frequency,\n",
    "    'srcpts': 5,\n",
    "    'verb': 1,\n",
    "}\n",
    "\n",
    "# Compute responses with empymod\n",
    "resp1 = empymod.bipole(res=[2e14, 0.3, 1, 1, 1], **inp)    # Background\n",
    "resp2 = empymod.bipole(res=[0.3, 0.3, 1, 1, 1], **inp)     # Background, without air\n",
    "resp3 = empymod.bipole(res=[2e14, 0.3, 1, 100, 1], **inp)  # Target\n",
    "\n",
    "# Plot it\n",
    "fig1, (ax11, ax12) = plt.subplots(1, 2, figsize=(10, 5), sharex=True)\n",
    "\n",
    "fig1.suptitle(\"1D Model with empymod; testing air influence\")\n",
    "ax11.plot(off, resp1.amp(), 'k', label='background')\n",
    "ax11.plot(off, resp2.amp(), ':', label='without air')\n",
    "ax11.plot(off, resp3.amp(), 'C1--', label='target')\n",
    "ax11.set_yscale('log')\n",
    "ax11.legend()\n",
    "\n",
    "ax12.plot(off, resp1.pha(deg=True), 'k', label='background')\n",
    "ax12.plot(off, resp2.pha(deg=True), ':', label='without air')\n",
    "ax12.plot(off, resp3.pha(deg=True), 'C1--', label='target')"
   ]
  },
  {
   "cell_type": "markdown",
   "id": "c3990dbb-4e35-4342-9f62-487902915b60",
   "metadata": {},
   "source": [
    "## emg3d"
   ]
  },
  {
   "cell_type": "code",
   "execution_count": null,
   "id": "5d31cc4d-c655-4d98-bcd8-e8953476e499",
   "metadata": {
    "tags": []
   },
   "outputs": [],
   "source": [
    "emg3d.meshes.good_mg_cell_nr()"
   ]
  },
  {
   "cell_type": "code",
   "execution_count": null,
   "id": "ad679902-909b-4c3c-949b-cee97b1fa749",
   "metadata": {
    "tags": []
   },
   "outputs": [],
   "source": [
    "hx = np.ones(80)*200\n",
    "hy = np.ones(32)*400\n",
    "hz = np.ones(40)*200\n",
    "grid = emg3d.TensorMesh([hx, hy, hz], origin=(-5100, -6600, -8000))\n",
    "grid"
   ]
  },
  {
   "cell_type": "markdown",
   "id": "701c01d4-b35b-4729-9507-7373e0ab8b3a",
   "metadata": {},
   "source": [
    "## Create 3D layered model"
   ]
  },
  {
   "cell_type": "code",
   "execution_count": null,
   "id": "ac28f859-ae95-4a73-bf77-1d0ae8b81dcc",
   "metadata": {
    "tags": []
   },
   "outputs": [],
   "source": [
    "res = np.ones(grid.shape_cells)\n",
    "res[:, :, grid.cell_centers_z > -3000] = 0.3\n",
    "res[:, :, (grid.cell_centers_z > -4200) & (grid.cell_centers_z < -4000)] = 100"
   ]
  },
  {
   "cell_type": "code",
   "execution_count": null,
   "id": "c76288e4-71dc-42c1-9b3f-755800eef904",
   "metadata": {
    "tags": []
   },
   "outputs": [],
   "source": [
    "model = emg3d.Model(grid, property_x=res, mapping='Resistivity')\n",
    "model"
   ]
  },
  {
   "cell_type": "code",
   "execution_count": null,
   "id": "76015fd4-b14c-44d5-a14b-28db41d319e4",
   "metadata": {
    "tags": []
   },
   "outputs": [],
   "source": [
    "grid.plot_3d_slicer(model.property_x, pcolor_opts={'norm': LogNorm(vmin=0.3, vmax=100)})"
   ]
  },
  {
   "cell_type": "markdown",
   "id": "8086b3c9-7f35-40e1-bf09-fd5437e35434",
   "metadata": {},
   "source": [
    "## Generate the source field"
   ]
  },
  {
   "cell_type": "code",
   "execution_count": null,
   "id": "635c1a8a-7d78-4212-bef5-e7bfa1c7a283",
   "metadata": {
    "tags": []
   },
   "outputs": [],
   "source": [
    "sfield = emg3d.fields.get_source_field(grid, source=src, frequency=frequency)\n",
    "sfield = emg3d.fields.get_source_field(grid, source=(0, 0, -2950, 0, 0), frequency=frequency)\n",
    "grid.plot_3d_slicer(sfield.fx.ravel('F'), view='abs', v_type='Ex',)"
   ]
  },
  {
   "cell_type": "markdown",
   "id": "00e2aa0d-7c67-4c90-a63b-34aaced9cdb9",
   "metadata": {},
   "source": [
    "## Solve for the electric field"
   ]
  },
  {
   "cell_type": "code",
   "execution_count": null,
   "id": "3829ea90-acd6-4350-b255-45635fdd75bb",
   "metadata": {
    "tags": []
   },
   "outputs": [],
   "source": [
    "efield = emg3d.solve(model, sfield, verb=4)"
   ]
  },
  {
   "cell_type": "code",
   "execution_count": null,
   "id": "7d9f5ef6-1c7b-4ebd-9ceb-4609704447a8",
   "metadata": {
    "tags": []
   },
   "outputs": [],
   "source": [
    "grid.plot_3d_slicer(\n",
    "        efield.fx.ravel('F'), view='abs', v_type='Ex',\n",
    "        pcolor_opts={'norm': LogNorm(vmin=1e-15)}\n",
    ")"
   ]
  },
  {
   "cell_type": "markdown",
   "id": "bbc00640-a967-48e3-bb9e-8a99ac4e8588",
   "metadata": {},
   "source": [
    "## Get responses and compare"
   ]
  },
  {
   "cell_type": "code",
   "execution_count": null,
   "id": "7ce238c4-2660-41f2-a9e7-6686d93e8a25",
   "metadata": {
    "tags": []
   },
   "outputs": [],
   "source": [
    "resp4 = efield.get_receiver((off, off*0, -3000, 0, 0), 'linear')"
   ]
  },
  {
   "cell_type": "code",
   "execution_count": null,
   "id": "1eda7381-3b06-47a1-a107-c3fb1a702e5c",
   "metadata": {
    "tags": []
   },
   "outputs": [],
   "source": [
    "# Plot it\n",
    "fig2, (ax21, ax22) = plt.subplots(1, 2, figsize=(10, 5), sharex=True)\n",
    "\n",
    "fig2.suptitle(\"1D Model comparing empymod and emg3d\")\n",
    "\n",
    "ax21.plot(off, resp1.amp(), 'k', label='background')\n",
    "ax21.plot(off, resp3.amp(), 'C0-', label='target empymod')\n",
    "ax21.plot(off, resp4.amp(), 'C1--', label='target emg3d')\n",
    "ax21.set_yscale('log')\n",
    "ax21.legend()\n",
    "\n",
    "ax22.plot(off, resp1.pha(deg=True), 'k')\n",
    "ax22.plot(off, resp3.pha(deg=True), 'C0-')\n",
    "ax22.plot(off, resp4.pha(deg=True), 'C1--')"
   ]
  },
  {
   "cell_type": "markdown",
   "id": "97ea259f-6428-4082-9ced-73e486ddaa1f",
   "metadata": {},
   "source": [
    "## Actual 3D target"
   ]
  },
  {
   "cell_type": "code",
   "execution_count": null,
   "id": "80fc99a1-259c-4529-9bff-9d520ed0ce7b",
   "metadata": {
    "tags": []
   },
   "outputs": [],
   "source": [
    "res2 = np.ones(grid.shape_cells)\n",
    "res2[:, :, grid.cell_centers_z > -3000] = 0.3\n",
    "res2 = res2.ravel('F')\n",
    "\n",
    "xx = (grid.cell_centers[:, 0] >= 0) & (grid.cell_centers[:, 0] <= 6000)\n",
    "yy = abs(grid.cell_centers[:, 1]) <= 500\n",
    "zz = (grid.cell_centers[:, 2] > -4200)*(grid.cell_centers[:, 2] < -4000)\n",
    "\n",
    "res2[xx*yy*zz] = 100.  # Target resistivity\n",
    "\n",
    "model2 = emg3d.Model(grid, property_x=res2, mapping='Resistivity')"
   ]
  },
  {
   "cell_type": "code",
   "execution_count": null,
   "id": "ce66f814-1325-4924-81eb-521ab5865f16",
   "metadata": {
    "tags": []
   },
   "outputs": [],
   "source": [
    "grid.plot_3d_slicer(model2.property_x, pcolor_opts={'norm': LogNorm(vmin=0.3, vmax=100)})"
   ]
  },
  {
   "cell_type": "code",
   "execution_count": null,
   "id": "e3d7067c-6a60-4cdb-8634-bda77303c53f",
   "metadata": {
    "tags": []
   },
   "outputs": [],
   "source": [
    "sfield = emg3d.fields.get_source_field(grid, source=(0, 0, -2950, 0, 0), frequency=frequency)\n",
    "efield2 = emg3d.solve(model2, sfield, verb=2)"
   ]
  },
  {
   "cell_type": "code",
   "execution_count": null,
   "id": "674e1179-023c-410d-bdfa-03190d8996c0",
   "metadata": {
    "tags": []
   },
   "outputs": [],
   "source": [
    "resp5 = efield2.get_receiver((off, off*0, -3000, 0, 0), 'linear')"
   ]
  },
  {
   "cell_type": "code",
   "execution_count": null,
   "id": "9be2d9b2-54ef-4a65-a543-24fd9336561c",
   "metadata": {
    "tags": []
   },
   "outputs": [],
   "source": [
    "# Plot it\n",
    "fig3, (ax31, ax32) = plt.subplots(1, 2, figsize=(10, 5), sharex=True)\n",
    "\n",
    "fig3.suptitle(\"1D vs 3D Model\")\n",
    "\n",
    "ax31.plot(off, resp1.amp(), 'k', label='background')\n",
    "ax31.plot(off, resp3.amp(), 'C0-', label='1D target empymod')\n",
    "ax31.plot(off, resp5.amp(), 'C1--', label='3D target emg3d')\n",
    "ax31.set_yscale('log')\n",
    "ax31.legend()\n",
    "\n",
    "ax32.plot(off, resp1.pha(deg=True), 'k')\n",
    "ax32.plot(off, resp3.pha(deg=True), 'C0-')\n",
    "ax32.plot(off, resp5.pha(deg=True), 'C1--')"
   ]
  },
  {
   "cell_type": "code",
   "execution_count": null,
   "id": "e21bb27b-2572-4ce3-b662-7edbc84522a6",
   "metadata": {
    "tags": []
   },
   "outputs": [],
   "source": [
    "grid.plot_3d_slicer(\n",
    "        efield2.fx.ravel('F'), view='abs', v_type='Ex',\n",
    "        pcolor_opts={'norm': LogNorm(vmin=1e-15)}\n",
    ")"
   ]
  },
  {
   "cell_type": "code",
   "execution_count": null,
   "id": "0f7dd57e-9f48-44c6-be54-180a2d54d1a3",
   "metadata": {
    "tags": []
   },
   "outputs": [],
   "source": [
    "emg3d.Report()"
   ]
  }
 ],
 "metadata": {
  "celltoolbar": "Geen",
  "kernelspec": {
   "display_name": "houston23-mc3",
   "language": "python",
   "name": "houston23-mc3"
  },
  "language_info": {
   "codemirror_mode": {
    "name": "ipython",
    "version": 3
   },
   "file_extension": ".py",
   "mimetype": "text/x-python",
   "name": "python",
   "nbconvert_exporter": "python",
   "pygments_lexer": "ipython3",
   "version": "3.10.9"
  }
 },
 "nbformat": 4,
 "nbformat_minor": 5
}
