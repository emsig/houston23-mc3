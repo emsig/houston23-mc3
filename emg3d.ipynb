{
 "cells": [
  {
   "cell_type": "markdown",
   "id": "5315f483-65d8-4286-b217-5a11fa1368f8",
   "metadata": {},
   "source": [
    "<img src=\"https://raw.github.com/emsig/logos/main/emg3d/emg3d-logo.png\" width=\"400\" alt=\"Logo emg3d\" title=\"Logo emg3d\">\n",
    "    \n",
    "### Multigrid solver for 3D EM diffusion\n",
    "\n",
    "The modeller **emg3d** is a multigrid solver for 3D EM diffusion with tri-axial\n",
    "electrical anisotropy. The matrix-free solver can be used as main solver or as\n",
    "preconditioner for Krylov subspace methods, and the governing equations are\n",
    "discretized on a staggered Yee grid.\n",
    "\n",
    "- Manual: https://emg3d.emsig.xyz\n",
    "- Gallery: https://emsig.xyz/emg3d-gallery/gallery/\n",
    "- Code: https://github.com/emsig/emg3d\n",
    "- Installation: https://emg3d.emsig.xyz/en/stable/manual/installation.html"
   ]
  },
  {
   "cell_type": "markdown",
   "id": "bebfc016-45f7-4000-a667-5539d0effe9a",
   "metadata": {
    "tags": []
   },
   "source": [
    "# Simple example, comparing to empymod\n",
    "\n",
    "## Topics\n",
    "\n",
    "- Direct solvers versus iterative solvers\n",
    "- NO MODEL BUILDER => look at, e.g., GemPy, RRM\n",
    "- Computational domain is crucial\n",
    "- FIT -> for complex model look at FE codes such as custEM, PETGEM"
   ]
  },
  {
   "cell_type": "code",
   "execution_count": null,
   "id": "662df267-3f0d-48d5-8208-66b134993dc7",
   "metadata": {
    "tags": []
   },
   "outputs": [],
   "source": [
    "# Uncomment on Google Colab\n",
    "# %pip install emg3d empymod matplotlib discretize scooby"
   ]
  },
  {
   "cell_type": "code",
   "execution_count": null,
   "id": "a6d06459-5f58-4854-ad80-6294d2ea7880",
   "metadata": {
    "tags": []
   },
   "outputs": [],
   "source": [
    "import emg3d\n",
    "import empymod\n",
    "import numpy as np\n",
    "import matplotlib.pyplot as plt\n",
    "from matplotlib.colors import LogNorm\n",
    "\n",
    "plt.style.use('bmh')\n",
    "\n",
    "# Comment this out on Google Colab\n",
    "%matplotlib widget"
   ]
  },
  {
   "cell_type": "markdown",
   "id": "03b58d74-1c28-404c-83b6-a8909e05634e",
   "metadata": {},
   "source": [
    "## 1D Model, compute with empymod"
   ]
  },
  {
   "cell_type": "code",
   "execution_count": null,
   "id": "acda55b6-fc65-426a-878b-44c469ecfa3b",
   "metadata": {
    "tags": []
   },
   "outputs": [],
   "source": [
    "# Survey parameters\n",
    "src = (-100, 100, 0, 0, -2950, -2950)\n",
    "off = np.linspace(500, 6000, 101)\n",
    "rec = (off, off*0, -3000, 0, 0)\n",
    "frequency = 0.5\n",
    "\n",
    "# Model parameters\n",
    "depth = [0, -3000, -4000, -4200]\n",
    "\n",
    "# Collect\n",
    "inp = {\n",
    "    'src': src,\n",
    "    'rec': rec,\n",
    "    'depth': depth,\n",
    "    'freqtime': frequency,\n",
    "    'srcpts': 5,\n",
    "    'verb': 1,\n",
    "}\n",
    "\n",
    "# Compute responses with empymod\n",
    "resp1 = empymod.bipole(res=[2e14, 0.3, 1, 1, 1], **inp)    # Background\n",
    "resp2 = empymod.bipole(res=[0.3, 0.3, 1, 1, 1], **inp)     # Background, without air\n",
    "resp3 = empymod.bipole(res=[2e14, 0.3, 1, 100, 1], **inp)  # Target\n",
    "\n",
    "# Plot it\n",
    "fig1, (ax11, ax12) = plt.subplots(1, 2, figsize=(10, 5), sharex=True)\n",
    "\n",
    "fig1.suptitle(\"1D Model with empymod; testing air influence\")\n",
    "ax11.plot(off, resp1.amp(), 'k', label='background')\n",
    "ax11.plot(off, resp2.amp(), ':', label='without air')\n",
    "ax11.plot(off, resp3.amp(), 'C1--', label='target')\n",
    "ax11.set_yscale('log')\n",
    "ax11.legend()\n",
    "\n",
    "ax12.plot(off, resp1.pha(deg=True), 'k', label='background')\n",
    "ax12.plot(off, resp2.pha(deg=True), ':', label='without air')\n",
    "ax12.plot(off, resp3.pha(deg=True), 'C1--', label='target')"
   ]
  },
  {
   "cell_type": "markdown",
   "id": "ae8240e3-6356-4b7a-8c09-dc39c9e19938",
   "metadata": {},
   "source": [
    "## emg3d"
   ]
  },
  {
   "cell_type": "code",
   "execution_count": null,
   "id": "ffff4263-b6ad-4240-867a-8d487741ddea",
   "metadata": {
    "tags": []
   },
   "outputs": [],
   "source": [
    "emg3d.meshes.good_mg_cell_nr()"
   ]
  },
  {
   "cell_type": "code",
   "execution_count": null,
   "id": "a31fc748-a9eb-4e6d-9f6a-f63e01af5341",
   "metadata": {
    "tags": []
   },
   "outputs": [],
   "source": [
    "hx = np.ones(80)*200\n",
    "hy = np.ones(32)*400\n",
    "hz = np.ones(40)*200\n",
    "grid = emg3d.TensorMesh([hx, hy, hz], origin=(-5100, -6600, -8000))\n",
    "grid"
   ]
  },
  {
   "cell_type": "markdown",
   "id": "01adaa93-1286-4bef-9f5f-5b862f41d442",
   "metadata": {},
   "source": [
    "## Create 3D layered model"
   ]
  },
  {
   "cell_type": "code",
   "execution_count": null,
   "id": "4638fcbd-df16-41a6-9a1c-887b621d7788",
   "metadata": {
    "tags": []
   },
   "outputs": [],
   "source": [
    "res = np.ones(grid.shape_cells)\n",
    "res[:, :, grid.cell_centers_z > -3000] = 0.3\n",
    "res[:, :, (grid.cell_centers_z > -4200) & (grid.cell_centers_z < -4000)] = 100"
   ]
  },
  {
   "cell_type": "code",
   "execution_count": null,
   "id": "0187571b-0790-41c6-bb80-41add6c1cd6c",
   "metadata": {
    "tags": []
   },
   "outputs": [],
   "source": [
    "model = emg3d.Model(grid, property_x=res, mapping='Resistivity')\n",
    "model"
   ]
  },
  {
   "cell_type": "code",
   "execution_count": null,
   "id": "05b755db-f93b-447c-929b-1e0ae0833b3e",
   "metadata": {
    "tags": []
   },
   "outputs": [],
   "source": [
    "grid.plot_3d_slicer(model.property_x, pcolor_opts={'norm': LogNorm(vmin=0.3, vmax=100)})\n",
    "plt.gcf().canvas.capture_scroll = True"
   ]
  },
  {
   "cell_type": "markdown",
   "id": "9b2b4136-b725-410f-841b-22add65ef6dd",
   "metadata": {},
   "source": [
    "## Generate the source field"
   ]
  },
  {
   "cell_type": "code",
   "execution_count": null,
   "id": "fa5fe757-e7a6-4dfa-b24d-c8e91c861bc9",
   "metadata": {
    "tags": []
   },
   "outputs": [],
   "source": [
    "sfield = emg3d.fields.get_source_field(grid, source=src, frequency=frequency)\n",
    "sfield = emg3d.fields.get_source_field(grid, source=(0, 0, -2950, 0, 0), frequency=frequency)\n",
    "grid.plot_3d_slicer(sfield.fx.ravel('F'), view='abs', v_type='Ex',)\n",
    "plt.gcf().canvas.capture_scroll = True"
   ]
  },
  {
   "cell_type": "markdown",
   "id": "3560014d-687c-4026-880f-ab4a5d2855e1",
   "metadata": {
    "tags": []
   },
   "source": [
    "## Solve for the electric field"
   ]
  },
  {
   "cell_type": "code",
   "execution_count": null,
   "id": "b5cd84e1-87c5-4f59-9772-ed730717294c",
   "metadata": {
    "tags": []
   },
   "outputs": [],
   "source": [
    "efield = emg3d.solve(model, sfield, verb=4)"
   ]
  },
  {
   "cell_type": "code",
   "execution_count": null,
   "id": "26df0025-6ed8-4b45-bc0f-8346fff14a1b",
   "metadata": {
    "tags": []
   },
   "outputs": [],
   "source": [
    "grid.plot_3d_slicer(\n",
    "        efield.fx.ravel('F'), view='abs', v_type='Ex',\n",
    "        pcolor_opts={'norm': LogNorm(vmin=1e-15)}\n",
    ")\n",
    "plt.gcf().canvas.capture_scroll = True"
   ]
  },
  {
   "cell_type": "markdown",
   "id": "3fc6d3c1-1842-4253-ab2e-956ed7c68bd2",
   "metadata": {
    "tags": []
   },
   "source": [
    "## Get responses and compare"
   ]
  },
  {
   "cell_type": "code",
   "execution_count": null,
   "id": "19c6d118-c772-4b48-922f-137b25b7ee69",
   "metadata": {
    "tags": []
   },
   "outputs": [],
   "source": [
    "resp4 = efield.get_receiver((off, off*0, -3000, 0, 0), 'linear')"
   ]
  },
  {
   "cell_type": "code",
   "execution_count": null,
   "id": "ff20d8f3-684b-4332-abe9-b4e3dab6245b",
   "metadata": {
    "tags": []
   },
   "outputs": [],
   "source": [
    "# Plot it\n",
    "fig2, (ax21, ax22) = plt.subplots(1, 2, figsize=(10, 5), sharex=True)\n",
    "\n",
    "fig2.suptitle(\"1D Model comparing empymod and emg3d\")\n",
    "\n",
    "ax21.plot(off, resp1.amp(), 'k', label='background')\n",
    "ax21.plot(off, resp3.amp(), 'C0-', label='target empymod')\n",
    "ax21.plot(off, resp4.amp(), 'C1--', label='target emg3d')\n",
    "ax21.set_yscale('log')\n",
    "ax21.legend()\n",
    "\n",
    "ax22.plot(off, resp1.pha(deg=True), 'k')\n",
    "ax22.plot(off, resp3.pha(deg=True), 'C0-')\n",
    "ax22.plot(off, resp4.pha(deg=True), 'C1--')"
   ]
  },
  {
   "cell_type": "markdown",
   "id": "8f5e1285-558e-464d-95d6-c0d21c91c19b",
   "metadata": {},
   "source": [
    "## Actual 3D target"
   ]
  },
  {
   "cell_type": "code",
   "execution_count": null,
   "id": "51466f6c-acc0-4dbe-b6fd-cfd2f41e0824",
   "metadata": {
    "tags": []
   },
   "outputs": [],
   "source": [
    "res2 = np.ones(grid.shape_cells)\n",
    "res2[:, :, grid.cell_centers_z > -3000] = 0.3\n",
    "res2 = res2.ravel('F')\n",
    "\n",
    "xx = (grid.cell_centers[:, 0] >= 0) & (grid.cell_centers[:, 0] <= 6000)\n",
    "yy = abs(grid.cell_centers[:, 1]) <= 500\n",
    "zz = (grid.cell_centers[:, 2] > -4200)*(grid.cell_centers[:, 2] < -4000)\n",
    "\n",
    "res2[xx*yy*zz] = 100.  # Target resistivity\n",
    "\n",
    "model2 = emg3d.Model(grid, property_x=res2, mapping='Resistivity')"
   ]
  },
  {
   "cell_type": "code",
   "execution_count": null,
   "id": "cd97c9ff-571f-4fa2-a0ce-d83b9e31b1f9",
   "metadata": {
    "tags": []
   },
   "outputs": [],
   "source": [
    "grid.plot_3d_slicer(model2.property_x, pcolor_opts={'norm': LogNorm(vmin=0.3, vmax=100)})\n",
    "plt.gcf().canvas.capture_scroll = True"
   ]
  },
  {
   "cell_type": "code",
   "execution_count": null,
   "id": "4d98cc67-bacc-4c68-912c-37946294b229",
   "metadata": {
    "tags": []
   },
   "outputs": [],
   "source": [
    "sfield = emg3d.fields.get_source_field(grid, source=(0, 0, -2950, 0, 0), frequency=frequency)\n",
    "efield2 = emg3d.solve(model2, sfield, verb=2)"
   ]
  },
  {
   "cell_type": "code",
   "execution_count": null,
   "id": "d048a89a-0618-46de-b32c-5e09ecb869d8",
   "metadata": {
    "tags": []
   },
   "outputs": [],
   "source": [
    "resp5 = efield2.get_receiver((off, off*0, -3000, 0, 0), 'linear')"
   ]
  },
  {
   "cell_type": "code",
   "execution_count": null,
   "id": "4ad6e277-2c97-40a5-a5ef-be7d7733bd2a",
   "metadata": {
    "tags": []
   },
   "outputs": [],
   "source": [
    "# Plot it\n",
    "fig3, (ax31, ax32) = plt.subplots(1, 2, figsize=(10, 5), sharex=True)\n",
    "\n",
    "fig3.suptitle(\"1D vs 3D Model\")\n",
    "\n",
    "ax31.plot(off, resp1.amp(), 'k', label='background')\n",
    "ax31.plot(off, resp3.amp(), 'C0-', label='1D target empymod')\n",
    "ax31.plot(off, resp5.amp(), 'C1--', label='3D target emg3d')\n",
    "ax31.set_yscale('log')\n",
    "ax31.legend()\n",
    "\n",
    "ax32.plot(off, resp1.pha(deg=True), 'k')\n",
    "ax32.plot(off, resp3.pha(deg=True), 'C0-')\n",
    "ax32.plot(off, resp5.pha(deg=True), 'C1--')"
   ]
  },
  {
   "cell_type": "code",
   "execution_count": null,
   "id": "fea2e212-8adc-4d8b-8728-d73f581f0b85",
   "metadata": {
    "tags": []
   },
   "outputs": [],
   "source": [
    "grid.plot_3d_slicer(\n",
    "        efield2.fx.ravel('F'), view='abs', v_type='Ex',\n",
    "        pcolor_opts={'norm': LogNorm(vmin=1e-15)}\n",
    ")\n",
    "plt.gcf().canvas.capture_scroll = True"
   ]
  },
  {
   "cell_type": "code",
   "execution_count": null,
   "id": "99c7f808-98bb-4140-9a30-5c6ec7d0e322",
   "metadata": {
    "tags": []
   },
   "outputs": [],
   "source": [
    "emg3d.Report()"
   ]
  }
 ],
 "metadata": {
  "kernelspec": {
   "display_name": "houston23-mc3",
   "language": "python",
   "name": "houston23-mc3"
  },
  "language_info": {
   "codemirror_mode": {
    "name": "ipython",
    "version": 3
   },
   "file_extension": ".py",
   "mimetype": "text/x-python",
   "name": "python",
   "nbconvert_exporter": "python",
   "pygments_lexer": "ipython3",
   "version": "3.11.3"
  }
 },
 "nbformat": 4,
 "nbformat_minor": 5
}
