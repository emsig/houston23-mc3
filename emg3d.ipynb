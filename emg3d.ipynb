{
 "cells": [
  {
   "cell_type": "markdown",
   "id": "3ba0ba0d",
   "metadata": {
    "slideshow": {
     "slide_type": "slide"
    }
   },
   "source": [
    "# empymod - marine CSEM"
   ]
  },
  {
   "cell_type": "code",
   "execution_count": 1,
   "id": "279fb56f",
   "metadata": {
    "tags": []
   },
   "outputs": [],
   "source": [
    "import empymod\n",
    "import numpy as np\n",
    "import matplotlib.pyplot as plt"
   ]
  },
  {
   "cell_type": "code",
   "execution_count": 2,
   "id": "8c2c4ef1-dbc5-4149-8200-71e2bec9d581",
   "metadata": {
    "tags": []
   },
   "outputs": [],
   "source": [
    "from ipywidgets import interact, interactive, fixed, interact_manual\n",
    "import ipywidgets as widgets"
   ]
  },
  {
   "cell_type": "code",
   "execution_count": 3,
   "id": "03780628-7edd-4005-883f-b8b810d2767c",
   "metadata": {
    "tags": []
   },
   "outputs": [],
   "source": [
    "%matplotlib widget"
   ]
  },
  {
   "cell_type": "code",
   "execution_count": 4,
   "id": "4084eeab",
   "metadata": {
    "tags": []
   },
   "outputs": [],
   "source": [
    "off = np.linspace(500, 10000, 101)"
   ]
  },
  {
   "cell_type": "code",
   "execution_count": 5,
   "id": "57a03473",
   "metadata": {
    "tags": []
   },
   "outputs": [],
   "source": [
    "resp = empymod.bipole(\n",
    "    src=(0, 0, -250, 0, 0),  # x, y, z, azimuth, dip\n",
    "    rec=(off, off*0, -300, 0, 0),\n",
    "    depth=(0, -300, -2000, -2500),\n",
    "    res=(2e14, 0.3, 1, 100, 1),\n",
    "    freqtime=1,\n",
    "    verb=1,\n",
    ")"
   ]
  },
  {
   "cell_type": "code",
   "execution_count": null,
   "id": "957681b7-9dbe-4893-9121-c1be7d98fd70",
   "metadata": {
    "tags": []
   },
   "outputs": [
    {
     "data": {
      "application/vnd.jupyter.widget-view+json": {
       "model_id": "f7faa1b2979f48019dde82002af78fdd",
       "version_major": 2,
       "version_minor": 0
      },
      "text/plain": [
       "interactive(children=(FloatSlider(value=0.0, description='x', max=1000.0, step=10.0), Output()), _dom_classes=…"
      ]
     },
     "metadata": {},
     "output_type": "display_data"
    }
   ],
   "source": [
    "\n",
    "fig1, ax9 = plt.subplots()\n",
    "ax9.set_ylabel('Amplitude (V/m)')\n",
    "ax9.set_xlabel('Offset (m)')\n",
    "ax9.set_yscale('log')\n",
    "    \n",
    "    \n",
    "    \n",
    "def f(x):\n",
    "    resp = empymod.bipole(\n",
    "        src=(0, 0, -250, 0, 0),  # x, y, z, azimuth, dip\n",
    "        rec=(off, off*0+x, -300, 0, 0),\n",
    "        depth=(0, -300, -2000, -2500),\n",
    "        res=(2e14, 0.3, 1, 100, 1),\n",
    "        freqtime=1,\n",
    "        verb=1,\n",
    "    )\n",
    "\n",
    "    \n",
    "    ax9.plot(off, resp.amp())\n",
    "    \n",
    "interact(f, x=widgets.FloatSlider(min=0, max=1000, step=10, value=0));"
   ]
  },
  {
   "cell_type": "code",
   "execution_count": null,
   "id": "ca5f0608-e05c-4577-a30e-59875801eac5",
   "metadata": {
    "tags": []
   },
   "outputs": [],
   "source": []
  },
  {
   "cell_type": "code",
   "execution_count": null,
   "id": "00ad7457",
   "metadata": {
    "tags": []
   },
   "outputs": [],
   "source": [
    "fig2, ax = plt.subplots()\n",
    "\n",
    "ax.plot(off, resp.amp())\n",
    "ax.set_ylabel('Amplitude (V/m)')\n",
    "ax.set_xlabel('Offset (m)')\n",
    "ax.set_yscale('log')"
   ]
  },
  {
   "cell_type": "code",
   "execution_count": null,
   "id": "72f5e74e",
   "metadata": {
    "tags": []
   },
   "outputs": [],
   "source": [
    "model = {\n",
    "    'src': (0, 0, -250, 0, 0),  # x, y, z, azimuth, dip\n",
    "    'rec': (off, off*0, -300, 0, 0),\n",
    "    'depth': (0, -300, -1000, -1500),\n",
    "    'freqtime': 1,\n",
    "    'verb': 1,\n",
    "}"
   ]
  },
  {
   "cell_type": "code",
   "execution_count": null,
   "id": "c5e6d2a1",
   "metadata": {
    "tags": []
   },
   "outputs": [],
   "source": [
    "resp_bg = empymod.bipole(res=(2e14, 0.3, 1, 1, 1), **model)\n",
    "resp_tg = empymod.bipole(res=(2e14, 0.3, 1, 100, 1), **model)"
   ]
  },
  {
   "cell_type": "code",
   "execution_count": null,
   "id": "61ea5d7e",
   "metadata": {
    "tags": []
   },
   "outputs": [],
   "source": [
    "fig3, ax = plt.subplots()\n",
    "\n",
    "ax.set_title(f\"Electric field, $f=${model['freqtime']} Hz\")\n",
    "ax.plot(off, resp_tg.amp(), 'C3')\n",
    "ax.plot(off, resp_bg.amp())\n",
    "ax.set_ylabel('Amplitude (V/m)')\n",
    "ax.set_xlabel('Offset (m)')\n",
    "ax.set_yscale('log')"
   ]
  },
  {
   "cell_type": "code",
   "execution_count": null,
   "id": "d2119a62",
   "metadata": {
    "tags": []
   },
   "outputs": [],
   "source": [
    "fig4, (ax1, ax2) = plt.subplots(1, 2, figsize=(12, 5), sharex=True, constrained_layout=True)\n",
    "\n",
    "fig4.suptitle(f\"Electric field, $f=${model['freqtime']} Hz\")\n",
    "\n",
    "ax1.plot(off, resp_tg.amp(), 'C3')\n",
    "ax1.plot(off, resp_bg.amp())\n",
    "ax1.set_ylabel('Amplitude (V/m)')\n",
    "ax1.set_xlabel('Offset (m)')\n",
    "ax1.set_yscale('log')\n",
    "\n",
    "ax2.set_title(f\"Electric field, $f=${model['freqtime']} Hz\")\n",
    "ax2.plot(off, resp_tg.pha(deg=True), 'C3')\n",
    "ax2.plot(off, resp_bg.pha(deg=True))\n",
    "ax2.set_ylabel('Phase (°)')\n",
    "ax2.set_xlabel('Offset (m)')"
   ]
  },
  {
   "cell_type": "code",
   "execution_count": null,
   "id": "5096d35d",
   "metadata": {},
   "outputs": [],
   "source": []
  },
  {
   "cell_type": "code",
   "execution_count": null,
   "id": "1ff563d8",
   "metadata": {},
   "outputs": [],
   "source": []
  },
  {
   "cell_type": "code",
   "execution_count": null,
   "id": "48a96857",
   "metadata": {},
   "outputs": [],
   "source": []
  },
  {
   "cell_type": "code",
   "execution_count": null,
   "id": "5360af10",
   "metadata": {
    "scrolled": true,
    "tags": []
   },
   "outputs": [],
   "source": [
    "empymod.Report()"
   ]
  }
 ],
 "metadata": {
  "celltoolbar": "Geen",
  "kernelspec": {
   "display_name": "houston23-mc3",
   "language": "python",
   "name": "houston23-mc3"
  },
  "language_info": {
   "codemirror_mode": {
    "name": "ipython",
    "version": 3
   },
   "file_extension": ".py",
   "mimetype": "text/x-python",
   "name": "python",
   "nbconvert_exporter": "python",
   "pygments_lexer": "ipython3",
   "version": "3.10.9"
  }
 },
 "nbformat": 4,
 "nbformat_minor": 5
}
